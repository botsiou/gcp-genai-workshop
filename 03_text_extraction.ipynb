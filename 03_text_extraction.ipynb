{
 "cells": [
  {
   "cell_type": "code",
   "execution_count": null,
   "metadata": {
    "id": "ur8xi4C7S06n"
   },
   "outputs": [],
   "source": [
    "# Copyright 2023 Google LLC\n",
    "#\n",
    "# Licensed under the Apache License, Version 2.0 (the \"License\");\n",
    "# you may not use this file except in compliance with the License.\n",
    "# You may obtain a copy of the License at\n",
    "#\n",
    "#     https://www.apache.org/licenses/LICENSE-2.0\n",
    "#\n",
    "# Unless required by applicable law or agreed to in writing, software\n",
    "# distributed under the License is distributed on an \"AS IS\" BASIS,\n",
    "# WITHOUT WARRANTIES OR CONDITIONS OF ANY KIND, either express or implied.\n",
    "# See the License for the specific language governing permissions and\n",
    "# limitations under the License."
   ]
  },
  {
   "cell_type": "markdown",
   "metadata": {
    "id": "JAPoU8Sm5E6e"
   },
   "source": [
    "# Text Extraction with Generative Models on Vertex AI \n",
    "\n",
    "<table align=\"left\">\n",
    "  <td>\n",
    "    <a href=\"https://colab.research.google.com/github/GoogleCloudPlatform/generative-ai/blob/main/language/examples/prompt-design/text_extraction.ipynb\">\n",
    "      <img src=\"https://cloud.google.com/ml-engine/images/colab-logo-32px.png\" alt=\"Colab logo\"> Run in Colab\n",
    "    </a>\n",
    "  </td>\n",
    "  <td>\n",
    "    <a href=\"https://github.com/GoogleCloudPlatform/generative-ai/blob/main/language/examples/prompt-design/text_extraction.ipynb\">\n",
    "      <img src=\"https://cloud.google.com/ml-engine/images/github-logo-32px.png\" alt=\"GitHub logo\">\n",
    "      View on GitHub\n",
    "    </a>\n",
    "  </td>\n",
    "  <td>\n",
    "    <a href=\"https://console.cloud.google.com/vertex-ai/workbench/deploy-notebook?download_url=https://raw.githubusercontent.com/GoogleCloudPlatform/generative-ai/main/language/examples/prompt-design/text_extraction.ipynb\">\n",
    "      <img src=\"https://lh3.googleusercontent.com/UiNooY4LUgW_oTvpsNhPpQzsstV5W8F7rYgxgGBD85cWJoLmrOzhVs_ksK_vgx40SHs7jCqkTkCk=e14-rj-sc0xffffff-h130-w32\" alt=\"Vertex AI logo\">\n",
    "      Open in Vertex AI Workbench\n",
    "    </a>\n",
    "  </td>\n",
    "</table>"
   ]
  },
  {
   "cell_type": "markdown",
   "metadata": {
    "id": "tvgnzT1CKxrO"
   },
   "source": [
    "## Overview\n",
    "\n",
    "Text extraction is a process of extracting text from a document. This can be done manually or automatically. Manual text extraction is the process of reading the document and copying the text into a new document. Automatic text extraction is the process of using software to extract the text from the document.\n",
    "\n",
    "Text extraction can be used for a variety of purposes. One common purpose is to convert documents into a machine-readable format. This can be useful for storing documents in a database or for processing documents with software. Another common purpose is to extract information from documents. This can be useful for finding specific information in a document or for summarizing the content of a document.\n",
    "\n",
    "Large language models (LLMs) are good for text extraction because they are trained on massive datasets of text and code, which allows them to learn the relationships between words and phrases. They can also understand the context of text and generate text, which allows them to extract information that is not explicitly stated or fill in the gaps in text that is missing information. The answers from LLMs can also be further improved through methods like few-shot prompting.\n",
    "\n",
    "Learn more about extraction prompts in the [official documentation](https://cloud.google.com/vertex-ai/docs/generative-ai/text/extraction-prompts)."
   ]
  },
  {
   "cell_type": "markdown",
   "metadata": {
    "id": "d975e698c9a4"
   },
   "source": [
    "### Objective\n",
    "\n",
    "In this tutorial, you will learn how to use generative models to extract the information from text by working through the following examples:\n",
    "- Google Pixel technical specifications extraction\n",
    "- WiFi troubleshooting with constraints\n",
    "- Respond to inquiries in character\n",
    "- Converting an ingredients list to JSON format\n",
    "- Organizing the results of a text extraction\n"
   ]
  },
  {
   "cell_type": "markdown",
   "metadata": {
    "id": "aed92deeb4a0"
   },
   "source": [
    "### Costs\n",
    "\n",
    "This tutorial uses billable components of Google Cloud:\n",
    "\n",
    "* Vertex AI Generative AI Studio\n",
    "\n",
    "Learn about [Vertex AI pricing](https://cloud.google.com/vertex-ai/pricing),\n",
    "and use the [Pricing Calculator](https://cloud.google.com/products/calculator/)\n",
    "to generate a cost estimate based on your projected usage."
   ]
  },
  {
   "cell_type": "markdown",
   "metadata": {
    "id": "xoMiNbiCDM2w"
   },
   "source": [
    "## Getting Started"
   ]
  },
  {
   "cell_type": "markdown",
   "metadata": {
    "id": "2a5AEr0lkLKD"
   },
   "source": [
    "### Install Vertex AI SDK"
   ]
  },
  {
   "cell_type": "code",
   "execution_count": 1,
   "metadata": {
    "id": "148dd6321946"
   },
   "outputs": [
    {
     "name": "stdout",
     "output_type": "stream",
     "text": [
      "Requirement already satisfied: google-cloud-aiplatform in ./.local/lib/python3.10/site-packages (1.27.0)\n",
      "Requirement already satisfied: google-cloud-core in /opt/conda/lib/python3.10/site-packages (2.3.2)\n",
      "Collecting google-cloud-documentai\n",
      "  Downloading google_cloud_documentai-2.16.0-py2.py3-none-any.whl (275 kB)\n",
      "\u001b[2K     \u001b[90m━━━━━━━━━━━━━━━━━━━━━━━━━━━━━━━━━━━━━━━\u001b[0m \u001b[32m275.8/275.8 kB\u001b[0m \u001b[31m7.3 MB/s\u001b[0m eta \u001b[36m0:00:00\u001b[0ma \u001b[36m0:00:01\u001b[0m\n",
      "\u001b[?25hRequirement already satisfied: google-cloud-storage in /opt/conda/lib/python3.10/site-packages (2.9.0)\n",
      "Collecting google-cloud-storage\n",
      "  Downloading google_cloud_storage-2.10.0-py2.py3-none-any.whl (114 kB)\n",
      "\u001b[2K     \u001b[90m━━━━━━━━━━━━━━━━━━━━━━━━━━━━━━━━━━━━━━\u001b[0m \u001b[32m114.6/114.6 kB\u001b[0m \u001b[31m14.6 MB/s\u001b[0m eta \u001b[36m0:00:00\u001b[0m\n",
      "\u001b[?25hCollecting simplejson\n",
      "  Downloading simplejson-3.19.1-cp310-cp310-manylinux_2_5_x86_64.manylinux1_x86_64.manylinux_2_17_x86_64.manylinux2014_x86_64.whl (137 kB)\n",
      "\u001b[2K     \u001b[90m━━━━━━━━━━━━━━━━━━━━━━━━━━━━━━━━━━━━━━\u001b[0m \u001b[32m137.9/137.9 kB\u001b[0m \u001b[31m18.9 MB/s\u001b[0m eta \u001b[36m0:00:00\u001b[0m\n",
      "\u001b[?25hRequirement already satisfied: google-api-core[grpc]!=2.0.*,!=2.1.*,!=2.2.*,!=2.3.*,!=2.4.*,!=2.5.*,!=2.6.*,!=2.7.*,<3.0.0dev,>=1.32.0 in /opt/conda/lib/python3.10/site-packages (from google-cloud-aiplatform) (1.34.0)\n",
      "Requirement already satisfied: proto-plus<2.0.0dev,>=1.22.0 in /opt/conda/lib/python3.10/site-packages (from google-cloud-aiplatform) (1.22.2)\n",
      "Requirement already satisfied: protobuf!=3.20.0,!=3.20.1,!=4.21.0,!=4.21.1,!=4.21.2,!=4.21.3,!=4.21.4,!=4.21.5,<5.0.0dev,>=3.19.5 in /opt/conda/lib/python3.10/site-packages (from google-cloud-aiplatform) (3.19.6)\n",
      "Requirement already satisfied: packaging>=14.3 in /opt/conda/lib/python3.10/site-packages (from google-cloud-aiplatform) (23.1)\n",
      "Requirement already satisfied: google-cloud-bigquery<4.0.0dev,>=1.15.0 in /opt/conda/lib/python3.10/site-packages (from google-cloud-aiplatform) (3.11.1)\n",
      "Requirement already satisfied: google-cloud-resource-manager<3.0.0dev,>=1.3.3 in /opt/conda/lib/python3.10/site-packages (from google-cloud-aiplatform) (1.10.1)\n",
      "Requirement already satisfied: shapely<2.0.0 in /opt/conda/lib/python3.10/site-packages (from google-cloud-aiplatform) (1.8.5.post1)\n",
      "Requirement already satisfied: google-auth<3.0dev,>=1.25.0 in /opt/conda/lib/python3.10/site-packages (from google-cloud-core) (2.20.0)\n",
      "Requirement already satisfied: google-resumable-media>=2.3.2 in /opt/conda/lib/python3.10/site-packages (from google-cloud-storage) (2.5.0)\n",
      "Requirement already satisfied: requests<3.0.0dev,>=2.18.0 in /opt/conda/lib/python3.10/site-packages (from google-cloud-storage) (2.31.0)\n",
      "Requirement already satisfied: googleapis-common-protos<2.0dev,>=1.56.2 in /opt/conda/lib/python3.10/site-packages (from google-api-core[grpc]!=2.0.*,!=2.1.*,!=2.2.*,!=2.3.*,!=2.4.*,!=2.5.*,!=2.6.*,!=2.7.*,<3.0.0dev,>=1.32.0->google-cloud-aiplatform) (1.59.1)\n",
      "Requirement already satisfied: grpcio<2.0dev,>=1.33.2 in ./.local/lib/python3.10/site-packages (from google-api-core[grpc]!=2.0.*,!=2.1.*,!=2.2.*,!=2.3.*,!=2.4.*,!=2.5.*,!=2.6.*,!=2.7.*,<3.0.0dev,>=1.32.0->google-cloud-aiplatform) (1.56.0)\n",
      "Requirement already satisfied: grpcio-status<2.0dev,>=1.33.2 in /opt/conda/lib/python3.10/site-packages (from google-api-core[grpc]!=2.0.*,!=2.1.*,!=2.2.*,!=2.3.*,!=2.4.*,!=2.5.*,!=2.6.*,!=2.7.*,<3.0.0dev,>=1.32.0->google-cloud-aiplatform) (1.46.3)\n",
      "Requirement already satisfied: cachetools<6.0,>=2.0.0 in /opt/conda/lib/python3.10/site-packages (from google-auth<3.0dev,>=1.25.0->google-cloud-core) (4.2.4)\n",
      "Requirement already satisfied: pyasn1-modules>=0.2.1 in /opt/conda/lib/python3.10/site-packages (from google-auth<3.0dev,>=1.25.0->google-cloud-core) (0.2.7)\n",
      "Requirement already satisfied: rsa<5,>=3.1.4 in /opt/conda/lib/python3.10/site-packages (from google-auth<3.0dev,>=1.25.0->google-cloud-core) (4.9)\n",
      "Requirement already satisfied: six>=1.9.0 in /opt/conda/lib/python3.10/site-packages (from google-auth<3.0dev,>=1.25.0->google-cloud-core) (1.16.0)\n",
      "Requirement already satisfied: urllib3<2.0 in /opt/conda/lib/python3.10/site-packages (from google-auth<3.0dev,>=1.25.0->google-cloud-core) (1.26.15)\n",
      "Requirement already satisfied: python-dateutil<3.0dev,>=2.7.2 in /opt/conda/lib/python3.10/site-packages (from google-cloud-bigquery<4.0.0dev,>=1.15.0->google-cloud-aiplatform) (2.8.2)\n",
      "Requirement already satisfied: grpc-google-iam-v1<1.0.0dev,>=0.12.4 in /opt/conda/lib/python3.10/site-packages (from google-cloud-resource-manager<3.0.0dev,>=1.3.3->google-cloud-aiplatform) (0.12.6)\n",
      "Requirement already satisfied: google-crc32c<2.0dev,>=1.0 in /opt/conda/lib/python3.10/site-packages (from google-resumable-media>=2.3.2->google-cloud-storage) (1.5.0)\n",
      "Requirement already satisfied: charset-normalizer<4,>=2 in /opt/conda/lib/python3.10/site-packages (from requests<3.0.0dev,>=2.18.0->google-cloud-storage) (3.1.0)\n",
      "Requirement already satisfied: idna<4,>=2.5 in /opt/conda/lib/python3.10/site-packages (from requests<3.0.0dev,>=2.18.0->google-cloud-storage) (3.4)\n",
      "Requirement already satisfied: certifi>=2017.4.17 in /opt/conda/lib/python3.10/site-packages (from requests<3.0.0dev,>=2.18.0->google-cloud-storage) (2023.5.7)\n",
      "Requirement already satisfied: pyasn1<0.5.0,>=0.4.6 in /opt/conda/lib/python3.10/site-packages (from pyasn1-modules>=0.2.1->google-auth<3.0dev,>=1.25.0->google-cloud-core) (0.4.8)\n",
      "Installing collected packages: simplejson, google-cloud-storage, google-cloud-documentai\n",
      "Successfully installed google-cloud-documentai-2.16.0 google-cloud-storage-2.10.0 simplejson-3.19.1\n"
     ]
    }
   ],
   "source": [
    "!pip install google-cloud-aiplatform google-cloud-core google-cloud-documentai google-cloud-storage simplejson --upgrade --user"
   ]
  },
  {
   "cell_type": "markdown",
   "metadata": {
    "id": "FLVWFKFwkLKE"
   },
   "source": [
    "**Colab only:** Uncomment the following cell to restart the kernel or use the button to restart the kernel. For Vertex AI Workbench you can restart the terminal using the button on top. "
   ]
  },
  {
   "cell_type": "code",
   "execution_count": null,
   "metadata": {
    "id": "_Hsqwn4hkLKE"
   },
   "outputs": [],
   "source": [
    "# # Automatically restart kernel after installs so that your environment can access the new packages\n",
    "# import IPython\n",
    "\n",
    "# app = IPython.Application.instance()\n",
    "# app.kernel.do_shutdown(True)"
   ]
  },
  {
   "cell_type": "markdown",
   "metadata": {
    "id": "Xe7OuYuGkLKF"
   },
   "source": [
    "### Authenticating your notebook environment\n",
    "* If you are using **Colab** to run this notebook, uncomment the cell below and continue.\n",
    "* If you are using **Vertex AI Workbench**, check out the setup instructions [here](https://github.com/GoogleCloudPlatform/generative-ai/tree/main/setup-env)."
   ]
  },
  {
   "cell_type": "code",
   "execution_count": null,
   "metadata": {
    "id": "U9Gx2SAZkLKF"
   },
   "outputs": [],
   "source": [
    "# from google.colab import auth\n",
    "# auth.authenticate_user()"
   ]
  },
  {
   "cell_type": "markdown",
   "metadata": {
    "id": "960505627ddf"
   },
   "source": [
    "### Import libraries\n"
   ]
  },
  {
   "cell_type": "markdown",
   "metadata": {},
   "source": [
    "**Colab only:** Uncomment the following cell to initialize the Vertex AI SDK. For Vertex AI Workbench, you don't need to run this.  "
   ]
  },
  {
   "cell_type": "code",
   "execution_count": null,
   "metadata": {},
   "outputs": [],
   "source": [
    "# import vertexai\n",
    "\n",
    "# PROJECT_ID = \"[your-project-id]\"  # @param {type:\"string\"}\n",
    "# vertexai.init(project=PROJECT_ID, location=\"us-central1\")"
   ]
  },
  {
   "cell_type": "code",
   "execution_count": 14,
   "metadata": {
    "id": "PyQmSRbKA8r-"
   },
   "outputs": [],
   "source": [
    "from google.api_core.client_options import ClientOptions\n",
    "from google.cloud import documentai  # type: ignore\n",
    "from typing import Optional\n",
    "\n",
    "from vertexai.preview.language_models import TextGenerationModel"
   ]
  },
  {
   "cell_type": "markdown",
   "metadata": {
    "id": "UP76a2la7O-a"
   },
   "source": [
    "### Import models"
   ]
  },
  {
   "cell_type": "code",
   "execution_count": 24,
   "metadata": {
    "id": "7isig7e07O-a"
   },
   "outputs": [],
   "source": [
    "generation_model = TextGenerationModel.from_pretrained(\"text-bison@001\")"
   ]
  },
  {
   "cell_type": "markdown",
   "metadata": {
    "id": "wbll-sxLD58J"
   },
   "source": [
    "## Text Extraction"
   ]
  },
  {
   "cell_type": "markdown",
   "metadata": {
    "id": "H_uxqUPADM2z"
   },
   "source": [
    "### Google Pixel technical specifications extraction\n",
    "\n",
    "In this example, you try to extract the technical specifications of a Pixel phone from text in JSON format using the PaLM API."
   ]
  },
  {
   "cell_type": "code",
   "execution_count": 41,
   "metadata": {
    "id": "-T5drTkzDM2z"
   },
   "outputs": [
    {
     "name": "stdout",
     "output_type": "stream",
     "text": [
      "{\n",
      "  \"product\":\"Google Pixel 7\",\n",
      "  \"network\":\"5G\",\n",
      "  \"RAM\":\"8GB\",\n",
      "  \"processor\":\"Tensor G2\",\n",
      "  \"storage\":\"128GB\",\n",
      "  \"color\":\"Lemongrass\"\n",
      "}\n"
     ]
    }
   ],
   "source": [
    "prompt = \"\"\"\n",
    "Extract the technical specifications from the text below in JSON format.\n",
    "\n",
    "Text: Google Nest WiFi, network speed up to 1200Mpbs, 2.4GHz and 5GHz frequencies, WP3 protocol\n",
    "JSON: {\n",
    "  \"product\":\"Google Nest WiFi\",\n",
    "  \"speed\":\"1200Mpbs\",\n",
    "  \"frequencies\": [\"2.4GHz\", \"5GHz\"],\n",
    "  \"protocol\":\"WP3\"\n",
    "}\n",
    "\n",
    "Text: Google Pixel 7, 5G network, 8GB RAM, Tensor G2 processor, 128GB of storage, Lemongrass\n",
    "JSON:\n",
    "\"\"\"\n",
    "\n",
    "print(\n",
    "    generation_model.predict(\n",
    "        prompt, temperature=0.2, max_output_tokens=1024, top_k=40, top_p=0.8\n",
    "    ).text\n",
    ")"
   ]
  },
  {
   "cell_type": "markdown",
   "metadata": {
    "id": "Rpspa8CzDM20"
   },
   "source": [
    "### WiFi troubleshooting with constraints\n",
    "\n",
    "In this example, you ask the generative model to answer a question about troubleshooting a Google WiFi router based on the description of the different status lights on the router. The model will only be able to respond with the text that was provided, which helps to prevent it from generating potentially harmful or incorrect answers. Here is how you can do this using the PaLM API."
   ]
  },
  {
   "cell_type": "code",
   "execution_count": 42,
   "metadata": {
    "id": "RmzlnDMBDM20"
   },
   "outputs": [
    {
     "name": "stdout",
     "output_type": "stream",
     "text": [
      "There is a network error.\n",
      "Check that the Ethernet cable is connected to both your router and your modem and both devices are turned on. You might need to unplug and plug in each device again.\n"
     ]
    }
   ],
   "source": [
    "prompt = \"\"\"\n",
    "Answer the question using the text below. Respond with only the text provided.\n",
    "Question: What should I do to fix my disconnected WiFi? The light on my Google WiFi router is yellow and blinking slowly.\n",
    "\n",
    "Text:\n",
    "Color: No light\n",
    "What it means: Router has no power or the light was dimmed in the app.\n",
    "What to do:\n",
    "Check that the power cable is properly connected to your router and to a working wall outlet.\n",
    "If your device is already set up and the light appears off, check your light brightness settings in the app.\n",
    "If there's still no light, contact WiFi customer support.\n",
    "\n",
    "Color: Solid white, no light, solid white\n",
    "What it means: Device is booting up.\n",
    "What to do:\n",
    "Wait for the device to boot up. This takes about a minute. When it's done, it will slowly pulse white, letting you know it's ready for setup.\n",
    "\n",
    "Color: Slow-pulsing white\n",
    "What it means: Device is ready for set up.\n",
    "What to do:\n",
    "Use the Google Home app to set up your router.\n",
    "\n",
    "Color: Solid white\n",
    "What it means: Router is online and all is well.\n",
    "What to do:\n",
    "You're online. Enjoy!\n",
    "\n",
    "Color: Slowly pulsing yellow\n",
    "What it means: There is a network error.\n",
    "What to do:\n",
    "Check that the Ethernet cable is connected to both your router and your modem and both devices are turned on. You might need to unplug and plug in each device again.\n",
    "\n",
    "Color: Fast blinking yellow\n",
    "What it means: You are holding down the reset button and are factory resetting this device.\n",
    "What to do:\n",
    "If you keep holding down the reset button, after about 12 seconds, the light will turn solid yellow. Once it is solid yellow, let go of the factory reset button.\n",
    "\n",
    "Color: Solid yellow\n",
    "What it means: Router is factory resetting.\n",
    "What to do:\n",
    "This can take up to 10 minutes. When it's done, the device will reset itself and start pulsing white, letting you know it's ready for setup.\n",
    "Image Solid red light Solid red Something is wrong. Critical failure. Factory reset the router. If the light stays red, contact WiFi customer support.\n",
    "\"\"\"\n",
    "\n",
    "print(\n",
    "    generation_model.predict(\n",
    "        prompt, temperature=0.2, max_output_tokens=256, top_k=1, top_p=0.8\n",
    "    ).text\n",
    ")"
   ]
  },
  {
   "cell_type": "markdown",
   "metadata": {},
   "source": [
    "### Extract from PDF\n",
    "\n",
    "In the following example we present integration of PaLM API with DocumentAI API. In the following scenario, we ask DocumentAI to provide us the OCR of a PDF file (an Non Disclosure Aggrement) and then the text of the aggrement is prompted to text-bison in order to create a structured JSON document with the most important parts of the NDA."
   ]
  },
  {
   "cell_type": "code",
   "execution_count": 36,
   "metadata": {},
   "outputs": [],
   "source": [
    "DOCAI_PROJECT_ID = \"dventerpriseaisearch\"\n",
    "DOCAI_LOCATION = \"eu\"  # Format is 'us' or 'eu'\n",
    "DOCAI_PROCESSOR_ID = \"b116c372f85dbbf7\"  # Create processor in Cloud Console\n",
    "DOCUMENT_PATH = \"./nda.pdf\" # Path of target document"
   ]
  },
  {
   "cell_type": "markdown",
   "metadata": {},
   "source": [
    "The following method, simply requests DocumentAI to OCR nda.pdf file."
   ]
  },
  {
   "cell_type": "code",
   "execution_count": 37,
   "metadata": {},
   "outputs": [],
   "source": [
    "def get_ocr_text(\n",
    "    project_id: str,\n",
    "    location: str,\n",
    "    processor_id: str,\n",
    "    file_path: str,\n",
    "    mime_type: str,\n",
    "    field_mask: Optional[str] = None,\n",
    "    processor_version_id: Optional[str] = None,\n",
    ") -> None:\n",
    "    # You must set the `api_endpoint` if you use a location other than \"us\".\n",
    "    opts = ClientOptions(api_endpoint=f\"{location}-documentai.googleapis.com\")\n",
    "\n",
    "    client = documentai.DocumentProcessorServiceClient(client_options=opts)\n",
    "\n",
    "    if processor_version_id:\n",
    "        # The full resource name of the processor version, e.g.:\n",
    "        # `projects/{project_id}/locations/{location}/processors/{processor_id}/processorVersions/{processor_version_id}`\n",
    "        name = client.processor_version_path(\n",
    "            project_id, location, processor_id, processor_version_id\n",
    "        )\n",
    "    else:\n",
    "        # The full resource name of the processor, e.g.:\n",
    "        # `projects/{project_id}/locations/{location}/processors/{processor_id}`\n",
    "        name = client.processor_path(project_id, location, processor_id)\n",
    "\n",
    "    # Read the file into memory\n",
    "    with open(file_path, \"rb\") as image:\n",
    "        image_content = image.read()\n",
    "\n",
    "    # Load binary data\n",
    "    raw_document = documentai.RawDocument(content=image_content, mime_type=mime_type)\n",
    "\n",
    "    # Configure the process request\n",
    "    request = documentai.ProcessRequest(\n",
    "        name=name, raw_document=raw_document, field_mask=field_mask\n",
    "    )\n",
    "\n",
    "    result = client.process_document(request=request)\n",
    "\n",
    "    # For a full list of `Document` object attributes, reference this page:\n",
    "    # https://cloud.google.com/document-ai/docs/reference/rest/v1/Document\n",
    "    document = result.document\n",
    "\n",
    "    # Read the text recognition output from the processor\n",
    "    print(\"The document contains the following text:\")\n",
    "    print(document.text)\n",
    "    \n",
    "    return document.text"
   ]
  },
  {
   "cell_type": "code",
   "execution_count": 38,
   "metadata": {},
   "outputs": [
    {
     "name": "stdout",
     "output_type": "stream",
     "text": [
      "The document contains the following text:\n",
      "Non-Disclosure Agreement\n",
      "(hereinafter: Agreement)\n",
      "between\n",
      "Digital Salt Technologies Pvt\n",
      "(Ramnord Lab, Jogeshwari West\n",
      "Mumbai, 400102, India)\n",
      "effective date\n",
      "14th of March 2022\n",
      "and\n",
      "Dataverse Ltd\n",
      "(131 Ethnikis Antistaseos st,\n",
      "Thessaloniki, 55134 Greece)\n",
      "- hereinafter jointly referred to as “PARTIES” –\n",
      "NOW IT IS AGREED as follows:\n",
      "Digital Salt Technologies Pvt contacted Dataverse Ltd (VAT no EL998682224) in order to\n",
      "purchase a virtual space on www.artsteps.com SaaS digital web platform. For that purpose\n",
      "(hereinafter referred as the \"Purpose of this Agreement\"), the PARTIES intend to share certain\n",
      "information of a confidential nature (\"Confidential Information\"). The PARTIES therefore wish\n",
      "to enter into this Agreement to govern the confidentiality obligations between them as either\n",
      "being the Receiving - or Disclosing PARTY. Both parties agree that this agreement, besides the\n",
      "parties themselves, binds each party's shareholder, legal representatives, staff and associates.\n",
      "Obligations of Confidentiality\n",
      "1.1 Each PARTY may, in its absolute discretion, provide Confidential Information to the other\n",
      "PARTY. All Confidential Information which is disclosed by a PARTY to the other is to be\n",
      "protected hereby:\n",
      "a) if in writing or other tangible form, (i) when explicitly labelled as confidential at the time\n",
      "of delivery; or (ii) when the Receiving PARTY knows that the information is confidential\n",
      "or (iii) a reasonable person under the circumstances would know, or have reason to\n",
      "believe that the information is confidential; or\n",
      "b) if oral, (i) when identified as confidential or (ii) when the disclosed information relates\n",
      "to the business of the Disclosing PARTY or (iii) when the Receiving PARTY knows that the\n",
      "information is confidential or (iv) a reasonable person under the circumstances would\n",
      "know or have reasons to believe that the information is confidential.\n",
      "1.2 The PARTIES agree that they will not distribute, disclose, or otherwise disseminate\n",
      "Confidential Information unless:\n",
      "1\n",
      "a) in accordance with this Agreement;\n",
      "b) such Confidential Information is or becomes generally available to the public other than\n",
      "as a result of a breach of this Agreement, as evidenced by documents which are\n",
      "generally published;\n",
      "such Confidential Information was already in possession of the Receiving PARTY\n",
      "without restriction prior to any disclosure hereunder, as evidenced by prior existing\n",
      "records of the Receiving PARTY;\n",
      "d) such Confidential Information is or has been lawfully disclosed to the Receiving PARTY\n",
      "by a third party, not employed by or otherwise affiliated with the Disclosing PARTY who\n",
      "is free lawfully to disclose the same;\n",
      "e) such Confidential Information is independently developed by personnel having no\n",
      "access to the Confidential Information by the Receiving PARTY and no Confidential\n",
      "Information disclosed hereunder has been used directly or indirectly for such\n",
      "development as evidenced by the written records of the Receiving PARTY; or\n",
      "f) such Confidential Information is mandatory requested to be disclosed by any rule, court,\n",
      "law, state, agency, or political subdivision thereof having jurisdiction.\n",
      "If only a portion of any Confidential Information falls under one or more of the preceding\n",
      "exceptions, the remaining Confidential Information shall continue to be subject to the\n",
      "prohibitions and restrictions as set out in this Agreement.\n",
      "1.3 In consideration of it being provided with Confidential Information each of the PARTIES\n",
      "agrees:\n",
      "a) that Confidential Information received by a PARTY shall be used for no purpose other\n",
      "than for the Purpose of this Agreement;\n",
      "b) that contractors, agents, advisors and representatives may be given access to\n",
      "Confidential Information only on a need to know basis regarding the Purpose of the\n",
      "Agreement and after such contractors, agents, advisors and representatives have\n",
      "accepted obligations of confidentiality similar to those contained in this Agreement;\n",
      "c) to copy, reproduce or analyze, evaluate and/or test the Confidential Information only\n",
      "to the extent reasonably necessary in connection with the Purpose of this Agreement\n",
      "and to keep the Confidential Information under security conditions no less rigorous\n",
      "than those used for Confidential Information of the Receiving PARTY of equivalent\n",
      "sensitivity, and in any event taking reasonable precautions for its safe custody; and\n",
      "d) to return promptly all Confidential Information to the Disclosing PARTY as provided to\n",
      "in clause 2 hereof.\n",
      "2\n",
      "1.4 In addition, without the prior written consent of the other PARTY and unless otherwise\n",
      "agreed between the PARTIES, the PARTIES agree not to disclose to any third party the fact\n",
      "that discussions are taking place and any of the terms, conditions or other facts with respect\n",
      "to the Purpose of this Agreement except if that disclosure is expressly required in\n",
      "accordance with clause 1.2 (f) above. In such a case the PARTY who is required to disclose\n",
      "this information must have informed the other PARTY as soon as it is aware that such\n",
      "disclosure is required, notified the other PARTY of the disclosure which is proposed to be\n",
      "made and given to this PARTY this opportunity to comment regarding the necessity or the\n",
      "form of such disclosure.\n",
      "1.5 PARTIES shall have the right to make the Confidential Information available on a need-to-\n",
      "know basis to related companies within the International Accounting Standards as be\n",
      "applicable by the national law in every country.\n",
      "Return of Confidential Information\n",
      "Upon termination of this Agreement or sooner upon Disclosing PARTY's written request, the\n",
      "Receiving PARTY shall immediately undertake to return, to destroy or to extinguish any written\n",
      "or otherwise recorded information received from the other PARTY, including any copies made,\n",
      "to the other PARTY, if not stipulated otherwise by law. The PARTY requesting that all written\n",
      "information be returned, destroyed, or extinguished must be issued with confirmation that all\n",
      "such information has been returned, destroyed, or extinguished.\n",
      "The PARTIES acknowledge, however, that Confidential Information provided in electronic format\n",
      "(e.g. e-mail) may be copied by the Receiving PARTY as part of its back-up procedures and if such\n",
      "copies cannot be destroyed or returned to the Disclosing PARTY, each PARTY agrees that it shall\n",
      "not access or utilize such copies following receipt of a request to return, destroy or extinguish\n",
      "Confidential Information received from the Disclosing PARTY.\n",
      "No Representations or Responsibilities\n",
      "3.1 The Confidential Information is provided in good faith but without any representations or\n",
      "warranty, whatever that it is accurate, complete, fit or sufficient for any use of the results\n",
      "based on the Confidential Information or that it will not infringe on proprietary rights of\n",
      "third parties. The Disclosing PARTY cannot be held liable for any direct, indirect, special,\n",
      "incidental and/or consequential damages such as, but not limited to, the loss of profit\n",
      "whether arising in tort (including negligence), contract or otherwise, that stem from any\n",
      "use of the Confidential Information, to the extent permitted by mandatory law. For the\n",
      "avoidance of doubt, both PARTIES nevertheless agree to use reasonable endeavors to\n",
      "provide the other PARTY with accurate and complete information.\n",
      "3.2. It is understood that this Agreement is not intended to and does not obligate either PARTY\n",
      "to enter into further agreements or to proceed with any possible relationship or other\n",
      "transaction.\n",
      "Miscellaneous\n",
      "3\n",
      "4.1. The PARTIES shall procure the observance of this Agreement by their respective advisors,\n",
      "contractors, agents, and representatives as if such advisors, contractors, agents, and\n",
      "representatives were PARTIES to this Agreement.\n",
      "4.2. This Agreement shall become effective upon its signing by both Parties and shall have a\n",
      "term of one (1) year.\n",
      "4.3. If a contract is entered into by the PARTIES in respect of the Purpose of the Agreement,\n",
      "this Agreement shall be deemed incorporated into such contract, applying then the terms\n",
      "of this mentioned contract, unless this contract explicitly provides otherwise with specific\n",
      "reference to this Agreement. In any such case, each PARTY shall use the Confidential\n",
      "Information only to the extent necessary for the performance of the contract.\n",
      "4.4. Nothing contained in this Agreement shall be construed as granting or conferring rights by\n",
      "transfer of property, license or otherwise in any Confidential Information. All rights in the\n",
      "Confidential Information are reserved by the Disclosing PARTY and shall remain its\n",
      "property (including copies made by the Receiving PARTY) and no rights or obligations other\n",
      "than those expressed herein are granted or to be implied from this Agreement.\n",
      "4.5. If any provision of this Agreement shall be held to be illegal, invalid, or unenforceable, the\n",
      "remaining provisions shall remain in full force and effect. The relevant provision shall then\n",
      "be replaced by a valid arrangement which comes as close as possible to the relevant\n",
      "provision. The same shall apply in the event of any gap in this Agreement.\n",
      "4.6. No failure on the part of a PARTY to exercise, and no delay of such PARTY in exercising any\n",
      "right, power or remedy hereunder shall operate as a waiver thereof, nor shall any single\n",
      "or partial exercise of any right, power or remedy by a PARTY preclude any other or further\n",
      "exercise thereof or the exercise of any other right, power or remedy. No express waiver or\n",
      "assent by any PARTY to any breach of or default in any term or condition of this Agreement\n",
      "shall constitute a waiver of or an assent to any succeeding breach of or default in the same\n",
      "or any other or condition hereof.\n",
      "4.7. The PARTIES agree to perform their respective undertakings hereunder without any\n",
      "charge or expenses to each other.\n",
      "4.8. No amendment to the terms and conditions of this Agreement shall be valid unless made\n",
      "in writing and signed by authorized representatives of each PARTY. This Agreement may\n",
      "not be assigned without the prior written consent of the other PARTY.\n",
      "4.9. The PARTIES will not, directly or indirectly, separately contract with or hire the other\n",
      "PARTY personnel, working on Virtual Reality or Augmented Reality projects within the\n",
      "PARTY during this Agreement and one (1) year after its termination, without the consent\n",
      "of the other PARTY. Furthermore, for the duration of this agreement and for one (1) year\n",
      "after its termination, no party shall be allowed to directly or indirectly solicit work that\n",
      "may be regarded as competing in nature from the other PARTY's customers, without the\n",
      "consent of the other PARTY.\n",
      "4\n",
      "4.10. The present Agreement is construed in accordance with the Laws of Greece the place of\n",
      "jurisdiction shall be in Athens. If the English or American legal meaning differs from the\n",
      "Greek legal meaning of this Agreement and its terms, the Greek legal meaning shall prevail.\n",
      "Dataverse Ltd\n",
      "Thessaloniki, 7/12/2021\n",
      "Christos Papaterpos,\n",
      "Managing Partner, Legal Representative\n",
      "Digital Salt Technologies Pvt Ltd.\n",
      "Mumbai, 7/12/2021\n",
      "Irfan Khan,\n",
      "Co-founder\n",
      "5\n",
      "\n"
     ]
    }
   ],
   "source": [
    "ndaText = get_ocr_text(DOCAI_PROJECT_ID, DOCAI_LOCATION, DOCAI_PROCESSOR_ID, DOCUMENT_PATH, \"application/pdf\")"
   ]
  },
  {
   "cell_type": "markdown",
   "metadata": {},
   "source": [
    "Now we construct a suitable prompt in order to and ask PaLM"
   ]
  },
  {
   "cell_type": "code",
   "execution_count": 40,
   "metadata": {},
   "outputs": [
    {
     "name": "stdout",
     "output_type": "stream",
     "text": [
      "\n",
      "You are lawyer and you want to extract:\n",
      "\n",
      "1. Aggrement date (key: date)\n",
      "2. First aggrement party official name (key: partyOne)\n",
      "3. Second aggrement party official name (key: partyTwo)\n",
      "4. Purpose of NDA (key: purpose)\n",
      "5. Summary of non disclosure and confidentiality (key: summary)\n",
      "6. Applicable law authority (key: court)\n",
      "\n",
      "from the following NDA text in JSON format.\n",
      "Text:\n",
      "Non-Disclosure Agreement\n",
      "(hereinafter: Agreement)\n",
      "between\n",
      "Digital Salt Technologies Pvt\n",
      "(Ramnord Lab, Jogeshwari West\n",
      "Mumbai, 400102, India)\n",
      "effective date\n",
      "14th of March 2022\n",
      "and\n",
      "Dataverse Ltd\n",
      "(131 Ethnikis Antistaseos st,\n",
      "Thessaloniki, 55134 Greece)\n",
      "- hereinafter jointly referred to as “PARTIES” –\n",
      "NOW IT IS AGREED as follows:\n",
      "Digital Salt Technologies Pvt contacted Dataverse Ltd (VAT no EL998682224) in order to\n",
      "purchase a virtual space on www.artsteps.com SaaS digital web platform. For that purpose\n",
      "(hereinafter referred as the \"Purpose of this Agreement\"), the PARTIES intend to share certain\n",
      "information of a confidential nature (\"Confidential Information\"). The PARTIES therefore wish\n",
      "to enter into this Agreement to govern the confidentiality obligations between them as either\n",
      "being the Receiving - or Disclosing PARTY. Both parties agree that this agreement, besides the\n",
      "parties themselves, binds each party's shareholder, legal representatives, staff and associates.\n",
      "Obligations of Confidentiality\n",
      "1.1 Each PARTY may, in its absolute discretion, provide Confidential Information to the other\n",
      "PARTY. All Confidential Information which is disclosed by a PARTY to the other is to be\n",
      "protected hereby:\n",
      "a) if in writing or other tangible form, (i) when explicitly labelled as confidential at the time\n",
      "of delivery; or (ii) when the Receiving PARTY knows that the information is confidential\n",
      "or (iii) a reasonable person under the circumstances would know, or have reason to\n",
      "believe that the information is confidential; or\n",
      "b) if oral, (i) when identified as confidential or (ii) when the disclosed information relates\n",
      "to the business of the Disclosing PARTY or (iii) when the Receiving PARTY knows that the\n",
      "information is confidential or (iv) a reasonable person under the circumstances would\n",
      "know or have reasons to believe that the information is confidential.\n",
      "1.2 The PARTIES agree that they will not distribute, disclose, or otherwise disseminate\n",
      "Confidential Information unless:\n",
      "1\n",
      "a) in accordance with this Agreement;\n",
      "b) such Confidential Information is or becomes generally available to the public other than\n",
      "as a result of a breach of this Agreement, as evidenced by documents which are\n",
      "generally published;\n",
      "such Confidential Information was already in possession of the Receiving PARTY\n",
      "without restriction prior to any disclosure hereunder, as evidenced by prior existing\n",
      "records of the Receiving PARTY;\n",
      "d) such Confidential Information is or has been lawfully disclosed to the Receiving PARTY\n",
      "by a third party, not employed by or otherwise affiliated with the Disclosing PARTY who\n",
      "is free lawfully to disclose the same;\n",
      "e) such Confidential Information is independently developed by personnel having no\n",
      "access to the Confidential Information by the Receiving PARTY and no Confidential\n",
      "Information disclosed hereunder has been used directly or indirectly for such\n",
      "development as evidenced by the written records of the Receiving PARTY; or\n",
      "f) such Confidential Information is mandatory requested to be disclosed by any rule, court,\n",
      "law, state, agency, or political subdivision thereof having jurisdiction.\n",
      "If only a portion of any Confidential Information falls under one or more of the preceding\n",
      "exceptions, the remaining Confidential Information shall continue to be subject to the\n",
      "prohibitions and restrictions as set out in this Agreement.\n",
      "1.3 In consideration of it being provided with Confidential Information each of the PARTIES\n",
      "agrees:\n",
      "a) that Confidential Information received by a PARTY shall be used for no purpose other\n",
      "than for the Purpose of this Agreement;\n",
      "b) that contractors, agents, advisors and representatives may be given access to\n",
      "Confidential Information only on a need to know basis regarding the Purpose of the\n",
      "Agreement and after such contractors, agents, advisors and representatives have\n",
      "accepted obligations of confidentiality similar to those contained in this Agreement;\n",
      "c) to copy, reproduce or analyze, evaluate and/or test the Confidential Information only\n",
      "to the extent reasonably necessary in connection with the Purpose of this Agreement\n",
      "and to keep the Confidential Information under security conditions no less rigorous\n",
      "than those used for Confidential Information of the Receiving PARTY of equivalent\n",
      "sensitivity, and in any event taking reasonable precautions for its safe custody; and\n",
      "d) to return promptly all Confidential Information to the Disclosing PARTY as provided to\n",
      "in clause 2 hereof.\n",
      "2\n",
      "1.4 In addition, without the prior written consent of the other PARTY and unless otherwise\n",
      "agreed between the PARTIES, the PARTIES agree not to disclose to any third party the fact\n",
      "that discussions are taking place and any of the terms, conditions or other facts with respect\n",
      "to the Purpose of this Agreement except if that disclosure is expressly required in\n",
      "accordance with clause 1.2 (f) above. In such a case the PARTY who is required to disclose\n",
      "this information must have informed the other PARTY as soon as it is aware that such\n",
      "disclosure is required, notified the other PARTY of the disclosure which is proposed to be\n",
      "made and given to this PARTY this opportunity to comment regarding the necessity or the\n",
      "form of such disclosure.\n",
      "1.5 PARTIES shall have the right to make the Confidential Information available on a need-to-\n",
      "know basis to related companies within the International Accounting Standards as be\n",
      "applicable by the national law in every country.\n",
      "Return of Confidential Information\n",
      "Upon termination of this Agreement or sooner upon Disclosing PARTY's written request, the\n",
      "Receiving PARTY shall immediately undertake to return, to destroy or to extinguish any written\n",
      "or otherwise recorded information received from the other PARTY, including any copies made,\n",
      "to the other PARTY, if not stipulated otherwise by law. The PARTY requesting that all written\n",
      "information be returned, destroyed, or extinguished must be issued with confirmation that all\n",
      "such information has been returned, destroyed, or extinguished.\n",
      "The PARTIES acknowledge, however, that Confidential Information provided in electronic format\n",
      "(e.g. e-mail) may be copied by the Receiving PARTY as part of its back-up procedures and if such\n",
      "copies cannot be destroyed or returned to the Disclosing PARTY, each PARTY agrees that it shall\n",
      "not access or utilize such copies following receipt of a request to return, destroy or extinguish\n",
      "Confidential Information received from the Disclosing PARTY.\n",
      "No Representations or Responsibilities\n",
      "3.1 The Confidential Information is provided in good faith but without any representations or\n",
      "warranty, whatever that it is accurate, complete, fit or sufficient for any use of the results\n",
      "based on the Confidential Information or that it will not infringe on proprietary rights of\n",
      "third parties. The Disclosing PARTY cannot be held liable for any direct, indirect, special,\n",
      "incidental and/or consequential damages such as, but not limited to, the loss of profit\n",
      "whether arising in tort (including negligence), contract or otherwise, that stem from any\n",
      "use of the Confidential Information, to the extent permitted by mandatory law. For the\n",
      "avoidance of doubt, both PARTIES nevertheless agree to use reasonable endeavors to\n",
      "provide the other PARTY with accurate and complete information.\n",
      "3.2. It is understood that this Agreement is not intended to and does not obligate either PARTY\n",
      "to enter into further agreements or to proceed with any possible relationship or other\n",
      "transaction.\n",
      "Miscellaneous\n",
      "3\n",
      "4.1. The PARTIES shall procure the observance of this Agreement by their respective advisors,\n",
      "contractors, agents, and representatives as if such advisors, contractors, agents, and\n",
      "representatives were PARTIES to this Agreement.\n",
      "4.2. This Agreement shall become effective upon its signing by both Parties and shall have a\n",
      "term of one (1) year.\n",
      "4.3. If a contract is entered into by the PARTIES in respect of the Purpose of the Agreement,\n",
      "this Agreement shall be deemed incorporated into such contract, applying then the terms\n",
      "of this mentioned contract, unless this contract explicitly provides otherwise with specific\n",
      "reference to this Agreement. In any such case, each PARTY shall use the Confidential\n",
      "Information only to the extent necessary for the performance of the contract.\n",
      "4.4. Nothing contained in this Agreement shall be construed as granting or conferring rights by\n",
      "transfer of property, license or otherwise in any Confidential Information. All rights in the\n",
      "Confidential Information are reserved by the Disclosing PARTY and shall remain its\n",
      "property (including copies made by the Receiving PARTY) and no rights or obligations other\n",
      "than those expressed herein are granted or to be implied from this Agreement.\n",
      "4.5. If any provision of this Agreement shall be held to be illegal, invalid, or unenforceable, the\n",
      "remaining provisions shall remain in full force and effect. The relevant provision shall then\n",
      "be replaced by a valid arrangement which comes as close as possible to the relevant\n",
      "provision. The same shall apply in the event of any gap in this Agreement.\n",
      "4.6. No failure on the part of a PARTY to exercise, and no delay of such PARTY in exercising any\n",
      "right, power or remedy hereunder shall operate as a waiver thereof, nor shall any single\n",
      "or partial exercise of any right, power or remedy by a PARTY preclude any other or further\n",
      "exercise thereof or the exercise of any other right, power or remedy. No express waiver or\n",
      "assent by any PARTY to any breach of or default in any term or condition of this Agreement\n",
      "shall constitute a waiver of or an assent to any succeeding breach of or default in the same\n",
      "or any other or condition hereof.\n",
      "4.7. The PARTIES agree to perform their respective undertakings hereunder without any\n",
      "charge or expenses to each other.\n",
      "4.8. No amendment to the terms and conditions of this Agreement shall be valid unless made\n",
      "in writing and signed by authorized representatives of each PARTY. This Agreement may\n",
      "not be assigned without the prior written consent of the other PARTY.\n",
      "4.9. The PARTIES will not, directly or indirectly, separately contract with or hire the other\n",
      "PARTY personnel, working on Virtual Reality or Augmented Reality projects within the\n",
      "PARTY during this Agreement and one (1) year after its termination, without the consent\n",
      "of the other PARTY. Furthermore, for the duration of this agreement and for one (1) year\n",
      "after its termination, no party shall be allowed to directly or indirectly solicit work that\n",
      "may be regarded as competing in nature from the other PARTY's customers, without the\n",
      "consent of the other PARTY.\n",
      "4\n",
      "4.10. The present Agreement is construed in accordance with the Laws of Greece the place of\n",
      "jurisdiction shall be in Athens. If the English or American legal meaning differs from the\n",
      "Greek legal meaning of this Agreement and its terms, the Greek legal meaning shall prevail.\n",
      "Dataverse Ltd\n",
      "Thessaloniki, 7/12/2021\n",
      "Christos Papaterpos,\n",
      "Managing Partner, Legal Representative\n",
      "Digital Salt Technologies Pvt Ltd.\n",
      "Mumbai, 7/12/2021\n",
      "Irfan Khan,\n",
      "Co-founder\n",
      "5\n",
      "\n",
      "\n",
      "JSON:\n",
      "\n",
      "-------------------------------\n",
      "{\n",
      "  \"date\": \"14th of March 2022\",\n",
      "  \"partyOne\": \"Digital Salt Technologies Pvt\",\n",
      "  \"partyTwo\": \"Dataverse Ltd\",\n",
      "  \"purpose\": \"purchase a virtual space on www.artsteps.com SaaS digital web platform\",\n",
      "  \"summary\": \"The parties agree to keep all confidential information disclosed to each other confidential and not to disclose it to any third party without prior written consent of the other party.\",\n",
      "  \"court\": \"Athens\"\n",
      "}\n"
     ]
    }
   ],
   "source": [
    "prompt = \"\"\"\n",
    "You are lawyer and you want to extract:\n",
    "\n",
    "1. Aggrement date (key: date)\n",
    "2. First aggrement party official name (key: partyOne)\n",
    "3. Second aggrement party official name (key: partyTwo)\n",
    "4. Purpose of NDA (key: purpose)\n",
    "5. Summary of non disclosure and confidentiality (key: summary)\n",
    "6. Applicable law authority (key: court)\n",
    "\n",
    "from the following NDA text in JSON format.\n",
    "Text:\n",
    "\"\"\"\n",
    "\n",
    "prompt += ndaText\n",
    "prompt += \"\"\"\n",
    "\n",
    "JSON:\n",
    "\"\"\"\n",
    "\n",
    "print(prompt)\n",
    "print(\"-------------------------------\")\n",
    "print(\n",
    "    generation_model.predict(\n",
    "        prompt, temperature=0.2, max_output_tokens=1024, top_k=40, top_p=0.8\n",
    "    ).text\n",
    ")"
   ]
  },
  {
   "cell_type": "code",
   "execution_count": null,
   "metadata": {},
   "outputs": [],
   "source": []
  }
 ],
 "metadata": {
  "colab": {
   "name": "text_extraction.ipynb",
   "toc_visible": true
  },
  "environment": {
   "kernel": "python3",
   "name": "tf2-gpu.2-11.m109",
   "type": "gcloud",
   "uri": "gcr.io/deeplearning-platform-release/tf2-gpu.2-11:m109"
  },
  "kernelspec": {
   "display_name": "Python 3",
   "language": "python",
   "name": "python3"
  },
  "language_info": {
   "codemirror_mode": {
    "name": "ipython",
    "version": 3
   },
   "file_extension": ".py",
   "mimetype": "text/x-python",
   "name": "python",
   "nbconvert_exporter": "python",
   "pygments_lexer": "ipython3",
   "version": "3.10.11"
  }
 },
 "nbformat": 4,
 "nbformat_minor": 4
}
